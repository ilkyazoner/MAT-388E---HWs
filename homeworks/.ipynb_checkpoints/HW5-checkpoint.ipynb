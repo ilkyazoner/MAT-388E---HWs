{
 "cells": [
  {
   "cell_type": "markdown",
   "metadata": {},
   "source": [
    "# HW5\n",
    "\n",
    "For this homework, we are going to work with [*Indoor User Movement Prediction from RSS data*](https://archive.ics.uci.edu/ml/datasets/Indoor+User+Movement+Prediction+from+RSS+data) dataset from UCI.  The homework is due Friday, December 21st midnight. \n",
    "\n",
    "## Task 1\n",
    "\n",
    "Download the dataset and unzip it in under a subdirectory of `data` folder named `rss_data`.\n",
    "\n",
    "The files we are interested is in the subfolder `dataset`.  Each of these files whose names that start with `MovementAAL_RSS_` contain data collected from indivuduals. Each of these files represent a single data point.  There are 314 of these files, and hence, you have 314 data points.  Each file has 4 columns but the number of rows change from file to file.  \n",
    "\n",
    "There is also a file named `MovementALL_target.csv` in that folder. This file tells us the class each of these measurements are assigned. Some of these measurements are labelled with +1 and some are labelled with -1.\n",
    "\n",
    "## Task 2\n",
    "\n",
    "Construct a SVM model that separates +1 labelled data points from -1 data points.  You must first solve the problem that these datapoints do not have the same number of rows even though they all have the same number of columns. \n",
    "\n",
    "## Task 3\n",
    "\n",
    "Using [Keras](https://keras.io/getting-started/sequential-model-guide/) write a neural network model that separates +1 labelled data points from -1 data points.\n",
    "\n",
    "## Notes\n",
    "\n",
    "1. You must document each step of your tasks: what are you doing, why are you doing it, what problems you encountered and how you solved it.  All of these must be explained and documented.  Solutions without sufficient documentations will be penalized accordingly. 50% of your points will come from your code, while the other 50% will come from your explanations.\n",
    "\n",
    "1. You can use MS Excel to inspect the files, but loading them up to python using pandas and inspecting them there under jupyter is easier.\n",
    "\n",
    "3. Put the data in a separate subfolder of your `data` folder and rename it `rss_data`. I'll take points off if the data is not saved under the correct place.\n",
    "\n",
    "1. For both of Task 2 and Task 3, you must split your data into a train and test set, and then evaluate the accuracy of your model on the test set.\n",
    "\n"
   ]
  },
  {
   "cell_type": "code",
   "execution_count": 5,
   "metadata": {},
   "outputs": [],
   "source": [
    "# hocanın notları 3. nasıl olacak???????????????????????????????\n",
    "\n",
    "#import glob\n",
    "#import pandas as pd"
   ]
  },
  {
   "cell_type": "code",
   "execution_count": 173,
   "metadata": {},
   "outputs": [],
   "source": [
    "# bircok excel dosyasi oldugundan asagidaki iki satirla datayi import ediyoruz.\n",
    "\n",
    "#path =r'C:\\Users\\ONER\\Desktop\\MAT388E\\data\\rss_data\\dataset'\n",
    "#dataset = glob.glob(path + \"/MovementAAL_RSS_*.csv\")\n",
    "#list_ = []\n",
    "\n",
    "#for file_ in dataset:\n",
    " #   df = pd.read_csv(file_,index_col=None, header=0)\n",
    "  #  list_.append(df)\n",
    "\n",
    "#frame = pd.concat(list_, axis = 0, ignore_index = True, sort = True)"
   ]
  },
  {
   "cell_type": "code",
   "execution_count": 143,
   "metadata": {
    "scrolled": true
   },
   "outputs": [
    {
     "data": {
      "text/html": [
       "<div>\n",
       "<style scoped>\n",
       "    .dataframe tbody tr th:only-of-type {\n",
       "        vertical-align: middle;\n",
       "    }\n",
       "\n",
       "    .dataframe tbody tr th {\n",
       "        vertical-align: top;\n",
       "    }\n",
       "\n",
       "    .dataframe thead th {\n",
       "        text-align: right;\n",
       "    }\n",
       "</style>\n",
       "<table border=\"1\" class=\"dataframe\">\n",
       "  <thead>\n",
       "    <tr style=\"text-align: right;\">\n",
       "      <th></th>\n",
       "      <th>#RSS_anchor1</th>\n",
       "      <th>RSS_anchor2</th>\n",
       "      <th>RSS_anchor3</th>\n",
       "      <th>RSS_anchor4</th>\n",
       "    </tr>\n",
       "  </thead>\n",
       "  <tbody>\n",
       "    <tr>\n",
       "      <th>0</th>\n",
       "      <td>-0.904760</td>\n",
       "      <td>-0.48</td>\n",
       "      <td>0.285710</td>\n",
       "      <td>0.30</td>\n",
       "    </tr>\n",
       "    <tr>\n",
       "      <th>1</th>\n",
       "      <td>-0.571430</td>\n",
       "      <td>-0.32</td>\n",
       "      <td>0.142860</td>\n",
       "      <td>0.30</td>\n",
       "    </tr>\n",
       "    <tr>\n",
       "      <th>2</th>\n",
       "      <td>-0.380950</td>\n",
       "      <td>-0.28</td>\n",
       "      <td>-0.142860</td>\n",
       "      <td>0.35</td>\n",
       "    </tr>\n",
       "    <tr>\n",
       "      <th>3</th>\n",
       "      <td>-0.285710</td>\n",
       "      <td>-0.20</td>\n",
       "      <td>-0.476190</td>\n",
       "      <td>0.35</td>\n",
       "    </tr>\n",
       "    <tr>\n",
       "      <th>4</th>\n",
       "      <td>-0.142860</td>\n",
       "      <td>-0.20</td>\n",
       "      <td>0.142860</td>\n",
       "      <td>-0.20</td>\n",
       "    </tr>\n",
       "    <tr>\n",
       "      <th>5</th>\n",
       "      <td>-0.142860</td>\n",
       "      <td>-0.20</td>\n",
       "      <td>0.047619</td>\n",
       "      <td>0.00</td>\n",
       "    </tr>\n",
       "    <tr>\n",
       "      <th>6</th>\n",
       "      <td>-0.142860</td>\n",
       "      <td>-0.16</td>\n",
       "      <td>-0.380950</td>\n",
       "      <td>0.20</td>\n",
       "    </tr>\n",
       "    <tr>\n",
       "      <th>7</th>\n",
       "      <td>-0.142860</td>\n",
       "      <td>-0.04</td>\n",
       "      <td>-0.619050</td>\n",
       "      <td>-0.20</td>\n",
       "    </tr>\n",
       "    <tr>\n",
       "      <th>8</th>\n",
       "      <td>-0.095238</td>\n",
       "      <td>-0.08</td>\n",
       "      <td>0.142860</td>\n",
       "      <td>-0.55</td>\n",
       "    </tr>\n",
       "    <tr>\n",
       "      <th>9</th>\n",
       "      <td>-0.047619</td>\n",
       "      <td>0.04</td>\n",
       "      <td>-0.095238</td>\n",
       "      <td>0.05</td>\n",
       "    </tr>\n",
       "    <tr>\n",
       "      <th>10</th>\n",
       "      <td>-0.190480</td>\n",
       "      <td>-0.04</td>\n",
       "      <td>0.095238</td>\n",
       "      <td>0.40</td>\n",
       "    </tr>\n",
       "    <tr>\n",
       "      <th>11</th>\n",
       "      <td>-0.095238</td>\n",
       "      <td>-0.04</td>\n",
       "      <td>-0.142860</td>\n",
       "      <td>0.35</td>\n",
       "    </tr>\n",
       "    <tr>\n",
       "      <th>12</th>\n",
       "      <td>-0.333330</td>\n",
       "      <td>-0.08</td>\n",
       "      <td>-0.285710</td>\n",
       "      <td>-0.20</td>\n",
       "    </tr>\n",
       "    <tr>\n",
       "      <th>13</th>\n",
       "      <td>-0.238100</td>\n",
       "      <td>0.04</td>\n",
       "      <td>0.142860</td>\n",
       "      <td>0.35</td>\n",
       "    </tr>\n",
       "    <tr>\n",
       "      <th>14</th>\n",
       "      <td>0.000000</td>\n",
       "      <td>0.08</td>\n",
       "      <td>0.142860</td>\n",
       "      <td>0.05</td>\n",
       "    </tr>\n",
       "    <tr>\n",
       "      <th>15</th>\n",
       "      <td>-0.095238</td>\n",
       "      <td>0.04</td>\n",
       "      <td>0.095238</td>\n",
       "      <td>0.10</td>\n",
       "    </tr>\n",
       "    <tr>\n",
       "      <th>16</th>\n",
       "      <td>-0.142860</td>\n",
       "      <td>-0.20</td>\n",
       "      <td>0.142860</td>\n",
       "      <td>0.50</td>\n",
       "    </tr>\n",
       "    <tr>\n",
       "      <th>17</th>\n",
       "      <td>-0.190480</td>\n",
       "      <td>0.04</td>\n",
       "      <td>-0.428570</td>\n",
       "      <td>0.30</td>\n",
       "    </tr>\n",
       "    <tr>\n",
       "      <th>18</th>\n",
       "      <td>-0.142860</td>\n",
       "      <td>-0.08</td>\n",
       "      <td>-0.238100</td>\n",
       "      <td>0.15</td>\n",
       "    </tr>\n",
       "    <tr>\n",
       "      <th>19</th>\n",
       "      <td>-0.333330</td>\n",
       "      <td>0.16</td>\n",
       "      <td>-0.142860</td>\n",
       "      <td>-0.80</td>\n",
       "    </tr>\n",
       "    <tr>\n",
       "      <th>20</th>\n",
       "      <td>-0.428570</td>\n",
       "      <td>0.16</td>\n",
       "      <td>-0.285710</td>\n",
       "      <td>-0.10</td>\n",
       "    </tr>\n",
       "    <tr>\n",
       "      <th>21</th>\n",
       "      <td>-0.714290</td>\n",
       "      <td>0.16</td>\n",
       "      <td>-0.285710</td>\n",
       "      <td>0.20</td>\n",
       "    </tr>\n",
       "    <tr>\n",
       "      <th>22</th>\n",
       "      <td>-0.095238</td>\n",
       "      <td>-0.08</td>\n",
       "      <td>0.095238</td>\n",
       "      <td>0.35</td>\n",
       "    </tr>\n",
       "    <tr>\n",
       "      <th>23</th>\n",
       "      <td>-0.285710</td>\n",
       "      <td>0.04</td>\n",
       "      <td>0.142860</td>\n",
       "      <td>0.20</td>\n",
       "    </tr>\n",
       "    <tr>\n",
       "      <th>24</th>\n",
       "      <td>0.000000</td>\n",
       "      <td>0.04</td>\n",
       "      <td>0.142860</td>\n",
       "      <td>0.10</td>\n",
       "    </tr>\n",
       "    <tr>\n",
       "      <th>25</th>\n",
       "      <td>0.000000</td>\n",
       "      <td>0.04</td>\n",
       "      <td>-0.047619</td>\n",
       "      <td>-0.05</td>\n",
       "    </tr>\n",
       "    <tr>\n",
       "      <th>26</th>\n",
       "      <td>-0.142860</td>\n",
       "      <td>-0.60</td>\n",
       "      <td>-0.285710</td>\n",
       "      <td>-0.10</td>\n",
       "    </tr>\n",
       "    <tr>\n",
       "      <th>27</th>\n",
       "      <td>-0.428570</td>\n",
       "      <td>-0.56</td>\n",
       "      <td>-0.666670</td>\n",
       "      <td>0.35</td>\n",
       "    </tr>\n",
       "    <tr>\n",
       "      <th>28</th>\n",
       "      <td>-0.285710</td>\n",
       "      <td>-0.48</td>\n",
       "      <td>0.190480</td>\n",
       "      <td>-0.15</td>\n",
       "    </tr>\n",
       "    <tr>\n",
       "      <th>29</th>\n",
       "      <td>-0.142860</td>\n",
       "      <td>-0.32</td>\n",
       "      <td>0.047619</td>\n",
       "      <td>-0.15</td>\n",
       "    </tr>\n",
       "    <tr>\n",
       "      <th>30</th>\n",
       "      <td>-0.285710</td>\n",
       "      <td>-0.08</td>\n",
       "      <td>0.190480</td>\n",
       "      <td>0.10</td>\n",
       "    </tr>\n",
       "    <tr>\n",
       "      <th>31</th>\n",
       "      <td>0.000000</td>\n",
       "      <td>-0.20</td>\n",
       "      <td>-0.380950</td>\n",
       "      <td>-0.20</td>\n",
       "    </tr>\n",
       "    <tr>\n",
       "      <th>32</th>\n",
       "      <td>-0.190480</td>\n",
       "      <td>-0.76</td>\n",
       "      <td>-0.142860</td>\n",
       "      <td>-0.10</td>\n",
       "    </tr>\n",
       "    <tr>\n",
       "      <th>33</th>\n",
       "      <td>-0.285710</td>\n",
       "      <td>-0.24</td>\n",
       "      <td>0.095238</td>\n",
       "      <td>0.15</td>\n",
       "    </tr>\n",
       "    <tr>\n",
       "      <th>34</th>\n",
       "      <td>0.000000</td>\n",
       "      <td>-0.12</td>\n",
       "      <td>0.142860</td>\n",
       "      <td>0.10</td>\n",
       "    </tr>\n",
       "  </tbody>\n",
       "</table>\n",
       "</div>"
      ],
      "text/plain": [
       "    #RSS_anchor1   RSS_anchor2   RSS_anchor3   RSS_anchor4\n",
       "0      -0.904760         -0.48      0.285710          0.30\n",
       "1      -0.571430         -0.32      0.142860          0.30\n",
       "2      -0.380950         -0.28     -0.142860          0.35\n",
       "3      -0.285710         -0.20     -0.476190          0.35\n",
       "4      -0.142860         -0.20      0.142860         -0.20\n",
       "5      -0.142860         -0.20      0.047619          0.00\n",
       "6      -0.142860         -0.16     -0.380950          0.20\n",
       "7      -0.142860         -0.04     -0.619050         -0.20\n",
       "8      -0.095238         -0.08      0.142860         -0.55\n",
       "9      -0.047619          0.04     -0.095238          0.05\n",
       "10     -0.190480         -0.04      0.095238          0.40\n",
       "11     -0.095238         -0.04     -0.142860          0.35\n",
       "12     -0.333330         -0.08     -0.285710         -0.20\n",
       "13     -0.238100          0.04      0.142860          0.35\n",
       "14      0.000000          0.08      0.142860          0.05\n",
       "15     -0.095238          0.04      0.095238          0.10\n",
       "16     -0.142860         -0.20      0.142860          0.50\n",
       "17     -0.190480          0.04     -0.428570          0.30\n",
       "18     -0.142860         -0.08     -0.238100          0.15\n",
       "19     -0.333330          0.16     -0.142860         -0.80\n",
       "20     -0.428570          0.16     -0.285710         -0.10\n",
       "21     -0.714290          0.16     -0.285710          0.20\n",
       "22     -0.095238         -0.08      0.095238          0.35\n",
       "23     -0.285710          0.04      0.142860          0.20\n",
       "24      0.000000          0.04      0.142860          0.10\n",
       "25      0.000000          0.04     -0.047619         -0.05\n",
       "26     -0.142860         -0.60     -0.285710         -0.10\n",
       "27     -0.428570         -0.56     -0.666670          0.35\n",
       "28     -0.285710         -0.48      0.190480         -0.15\n",
       "29     -0.142860         -0.32      0.047619         -0.15\n",
       "30     -0.285710         -0.08      0.190480          0.10\n",
       "31      0.000000         -0.20     -0.380950         -0.20\n",
       "32     -0.190480         -0.76     -0.142860         -0.10\n",
       "33     -0.285710         -0.24      0.095238          0.15\n",
       "34      0.000000         -0.12      0.142860          0.10"
      ]
     },
     "execution_count": 143,
     "metadata": {},
     "output_type": "execute_result"
    }
   ],
   "source": [
    "#kolon isimlerini olması gereken sırada gelmesi icin asagidaki gibi bir duzenleme yaptim.\n",
    "#frame = frame[['#RSS_anchor1', ' RSS_anchor2', ' RSS_anchor3', ' RSS_anchor4']]\n",
    "\n",
    "#ilk 70 satır\n",
    "#frame.head(35)"
   ]
  },
  {
   "cell_type": "code",
   "execution_count": null,
   "metadata": {},
   "outputs": [],
   "source": []
  },
  {
   "cell_type": "code",
   "execution_count": null,
   "metadata": {},
   "outputs": [],
   "source": []
  },
  {
   "cell_type": "code",
   "execution_count": null,
   "metadata": {},
   "outputs": [],
   "source": []
  },
  {
   "cell_type": "code",
   "execution_count": null,
   "metadata": {},
   "outputs": [],
   "source": []
  },
  {
   "cell_type": "code",
   "execution_count": null,
   "metadata": {},
   "outputs": [],
   "source": []
  },
  {
   "cell_type": "code",
   "execution_count": null,
   "metadata": {},
   "outputs": [],
   "source": []
  },
  {
   "cell_type": "code",
   "execution_count": null,
   "metadata": {},
   "outputs": [],
   "source": [
    "# ÖDEEEEEEEEEEEEV"
   ]
  },
  {
   "cell_type": "markdown",
   "metadata": {},
   "source": [
    "### Task 1\n"
   ]
  },
  {
   "cell_type": "markdown",
   "metadata": {},
   "source": [
    "Kullanilacak kutuphaneleri import ediyoruz."
   ]
  },
  {
   "cell_type": "code",
   "execution_count": 58,
   "metadata": {},
   "outputs": [],
   "source": [
    "import pandas as pd\n",
    "import glob"
   ]
  },
  {
   "cell_type": "markdown",
   "metadata": {},
   "source": [
    "Labelların yer aldigi excel dosyasini okutuyoruz ve bu sirada sutunların ismini belirliyoruz."
   ]
  },
  {
   "cell_type": "code",
   "execution_count": 59,
   "metadata": {},
   "outputs": [],
   "source": [
    "targetset = pd.read_csv(r'C:\\Users\\ONER\\Desktop\\MAT388E\\data\\rss_data\\dataset\\MovementAAL_target.csv', names=('sequence_ID', 'class_label'), skiprows=(1))"
   ]
  },
  {
   "cell_type": "markdown",
   "metadata": {},
   "source": [
    "Data pointlerin oldugu excelleri okutuyoruz ve sutunların ismini belirliyoruz."
   ]
  },
  {
   "cell_type": "code",
   "execution_count": 60,
   "metadata": {},
   "outputs": [],
   "source": [
    "def dataset(seq_id):\n",
    "    return pd.read_csv(r'C:\\Users\\ONER\\Desktop\\MAT388E\\data\\rss_data\\dataset\\MovementAAL_RSS_%s.csv' % seq_id, names=('RSS_anchor1', 'RSS_anchor2','RSS_anchor3', 'RSS_anchor4'), skiprows=(1))\n",
    "    \n",
    "#dataset = pd.read_csv(r'C:\\Users\\ONER\\Desktop\\MAT388E\\data\\rss_data\\dataset\\MovementAAL_RSS_*.csv', names=('RSS_anchor1', 'RSS_anchor2','RSS_anchor3', 'RSS_anchor4'), skiprows=(1))\n",
    "\n",
    "#path =r'C:\\Users\\ONER\\Desktop\\MAT388E\\data\\rss_data\\dataset'\n",
    "#dataset = glob.glob(path + \"\\MovementAAL_RSS_*.csv\")"
   ]
  },
  {
   "cell_type": "markdown",
   "metadata": {},
   "source": [
    "### Task 2 - SVM\n"
   ]
  },
  {
   "cell_type": "markdown",
   "metadata": {},
   "source": [
    "??????\n",
    "\n"
   ]
  },
  {
   "cell_type": "code",
   "execution_count": 72,
   "metadata": {},
   "outputs": [],
   "source": [
    "from sklearn import svm\n",
    "from sklearn.metrics import confusion_matrix\n",
    "from sklearn.metrics import classification_report\n",
    "from sklearn.model_selection import train_test_split\n",
    "from sklearn.metrics import accuracy_score"
   ]
  },
  {
   "cell_type": "code",
   "execution_count": 73,
   "metadata": {},
   "outputs": [],
   "source": [
    "def create_data(df):\n",
    "    frames = []\n",
    "    target = []\n",
    "    for idx, row in df.iterrows():\n",
    "        data = dataset(row['sequence_ID'])\n",
    "        frames.append(data)\n",
    "        arr = [row['class_label']] * len(data)\n",
    "        target += arr\n",
    "        \n",
    "    return pd.concat(frames), target\n",
    "\n",
    "data_test, target_test = create_data(targetset)\n",
    "\n",
    "X = data_test.get_values()\n",
    "y = target_test"
   ]
  },
  {
   "cell_type": "code",
   "execution_count": 74,
   "metadata": {},
   "outputs": [],
   "source": [
    "train_xs, test_xs, train_ys, test_ys = train_test_split(X,y,test_size=0.25)\n",
    "\n",
    "classifier = svm.SVC(kernel='rbf', gamma=2.0)\n",
    "classifier.fit(train_xs,train_ys)\n",
    "\n",
    "predicted_ys = classifier.predict(test_xs)"
   ]
  },
  {
   "cell_type": "code",
   "execution_count": 64,
   "metadata": {},
   "outputs": [
    {
     "name": "stdout",
     "output_type": "stream",
     "text": [
      "[[ 830  579]\n",
      " [ 346 1545]]\n"
     ]
    },
    {
     "data": {
      "text/plain": [
       "0.7196969696969697"
      ]
     },
     "execution_count": 64,
     "metadata": {},
     "output_type": "execute_result"
    }
   ],
   "source": [
    "print(confusion_matrix(test_ys,predicted_ys))\n",
    "accuracy_score(test_ys,predicted_ys)"
   ]
  },
  {
   "cell_type": "markdown",
   "metadata": {},
   "source": [
    "### Task 3 - Neural Network\n"
   ]
  },
  {
   "cell_type": "code",
   "execution_count": 84,
   "metadata": {},
   "outputs": [],
   "source": [
    "import keras\n",
    "from keras.models import Sequential\n",
    "from keras.layers import Dense\n",
    "from sklearn.datasets.samples_generator import make_blobs\n",
    "from sklearn.preprocessing import MinMaxScaler"
   ]
  },
  {
   "cell_type": "code",
   "execution_count": 85,
   "metadata": {},
   "outputs": [],
   "source": [
    "# generate 2d classification dataset\n",
    "X, y = make_blobs(n_samples=100, centers=2, n_features=2, random_state=1)\n",
    "scalar = MinMaxScaler()\n",
    "scalar.fit(X)\n",
    "X = scalar.transform(X)"
   ]
  },
  {
   "cell_type": "code",
   "execution_count": 90,
   "metadata": {},
   "outputs": [],
   "source": [
    "model = Sequential()\n",
    "\n",
    "#model.add(Dense(4, input_dim=2, activation='relu'))\n",
    "#model.add(Dense(4, activation='relu'))\n",
    "model.add(Dense(1, activation='sigmoid', input_dim=60))\n",
    "\n",
    "model.compile(optimizer='RMSprop', loss='binary_crossentropy', metrics=['accuracy'])\n",
    "\n"
   ]
  },
  {
   "cell_type": "code",
   "execution_count": 91,
   "metadata": {},
   "outputs": [
    {
     "ename": "ValueError",
     "evalue": "Error when checking input: expected dense_38_input to have shape (60,) but got array with shape (2,)",
     "output_type": "error",
     "traceback": [
      "\u001b[1;31m----------------------------------------------------------------\u001b[0m",
      "\u001b[1;31mValueError\u001b[0m                     Traceback (most recent call last)",
      "\u001b[1;32m<ipython-input-91-dda3e3aeee7d>\u001b[0m in \u001b[0;36m<module>\u001b[1;34m\u001b[0m\n\u001b[1;32m----> 1\u001b[1;33m \u001b[0mmodel\u001b[0m\u001b[1;33m.\u001b[0m\u001b[0mfit\u001b[0m\u001b[1;33m(\u001b[0m\u001b[0mX\u001b[0m\u001b[1;33m,\u001b[0m \u001b[0my\u001b[0m\u001b[1;33m,\u001b[0m \u001b[0mepochs\u001b[0m\u001b[1;33m=\u001b[0m\u001b[1;36m3\u001b[0m\u001b[1;33m,\u001b[0m \u001b[0mbatch_size\u001b[0m\u001b[1;33m=\u001b[0m\u001b[1;36m75\u001b[0m\u001b[1;33m)\u001b[0m\u001b[1;31m#verbose=0)\u001b[0m\u001b[1;33m\u001b[0m\u001b[1;33m\u001b[0m\u001b[0m\n\u001b[0m",
      "\u001b[1;32mC:\\ProgramData\\Anaconda3\\lib\\site-packages\\keras\\engine\\training.py\u001b[0m in \u001b[0;36mfit\u001b[1;34m(self, x, y, batch_size, epochs, verbose, callbacks, validation_split, validation_data, shuffle, class_weight, sample_weight, initial_epoch, steps_per_epoch, validation_steps, **kwargs)\u001b[0m\n\u001b[0;32m    950\u001b[0m             \u001b[0msample_weight\u001b[0m\u001b[1;33m=\u001b[0m\u001b[0msample_weight\u001b[0m\u001b[1;33m,\u001b[0m\u001b[1;33m\u001b[0m\u001b[1;33m\u001b[0m\u001b[0m\n\u001b[0;32m    951\u001b[0m             \u001b[0mclass_weight\u001b[0m\u001b[1;33m=\u001b[0m\u001b[0mclass_weight\u001b[0m\u001b[1;33m,\u001b[0m\u001b[1;33m\u001b[0m\u001b[1;33m\u001b[0m\u001b[0m\n\u001b[1;32m--> 952\u001b[1;33m             batch_size=batch_size)\n\u001b[0m\u001b[0;32m    953\u001b[0m         \u001b[1;31m# Prepare validation data.\u001b[0m\u001b[1;33m\u001b[0m\u001b[1;33m\u001b[0m\u001b[1;33m\u001b[0m\u001b[0m\n\u001b[0;32m    954\u001b[0m         \u001b[0mdo_validation\u001b[0m \u001b[1;33m=\u001b[0m \u001b[1;32mFalse\u001b[0m\u001b[1;33m\u001b[0m\u001b[1;33m\u001b[0m\u001b[0m\n",
      "\u001b[1;32mC:\\ProgramData\\Anaconda3\\lib\\site-packages\\keras\\engine\\training.py\u001b[0m in \u001b[0;36m_standardize_user_data\u001b[1;34m(self, x, y, sample_weight, class_weight, check_array_lengths, batch_size)\u001b[0m\n\u001b[0;32m    749\u001b[0m             \u001b[0mfeed_input_shapes\u001b[0m\u001b[1;33m,\u001b[0m\u001b[1;33m\u001b[0m\u001b[1;33m\u001b[0m\u001b[0m\n\u001b[0;32m    750\u001b[0m             \u001b[0mcheck_batch_axis\u001b[0m\u001b[1;33m=\u001b[0m\u001b[1;32mFalse\u001b[0m\u001b[1;33m,\u001b[0m  \u001b[1;31m# Don't enforce the batch size.\u001b[0m\u001b[1;33m\u001b[0m\u001b[1;33m\u001b[0m\u001b[0m\n\u001b[1;32m--> 751\u001b[1;33m             exception_prefix='input')\n\u001b[0m\u001b[0;32m    752\u001b[0m \u001b[1;33m\u001b[0m\u001b[0m\n\u001b[0;32m    753\u001b[0m         \u001b[1;32mif\u001b[0m \u001b[0my\u001b[0m \u001b[1;32mis\u001b[0m \u001b[1;32mnot\u001b[0m \u001b[1;32mNone\u001b[0m\u001b[1;33m:\u001b[0m\u001b[1;33m\u001b[0m\u001b[1;33m\u001b[0m\u001b[0m\n",
      "\u001b[1;32mC:\\ProgramData\\Anaconda3\\lib\\site-packages\\keras\\engine\\training_utils.py\u001b[0m in \u001b[0;36mstandardize_input_data\u001b[1;34m(data, names, shapes, check_batch_axis, exception_prefix)\u001b[0m\n\u001b[0;32m    136\u001b[0m                             \u001b[1;34m': expected '\u001b[0m \u001b[1;33m+\u001b[0m \u001b[0mnames\u001b[0m\u001b[1;33m[\u001b[0m\u001b[0mi\u001b[0m\u001b[1;33m]\u001b[0m \u001b[1;33m+\u001b[0m \u001b[1;34m' to have shape '\u001b[0m \u001b[1;33m+\u001b[0m\u001b[1;33m\u001b[0m\u001b[1;33m\u001b[0m\u001b[0m\n\u001b[0;32m    137\u001b[0m                             \u001b[0mstr\u001b[0m\u001b[1;33m(\u001b[0m\u001b[0mshape\u001b[0m\u001b[1;33m)\u001b[0m \u001b[1;33m+\u001b[0m \u001b[1;34m' but got array with shape '\u001b[0m \u001b[1;33m+\u001b[0m\u001b[1;33m\u001b[0m\u001b[1;33m\u001b[0m\u001b[0m\n\u001b[1;32m--> 138\u001b[1;33m                             str(data_shape))\n\u001b[0m\u001b[0;32m    139\u001b[0m     \u001b[1;32mreturn\u001b[0m \u001b[0mdata\u001b[0m\u001b[1;33m\u001b[0m\u001b[1;33m\u001b[0m\u001b[0m\n\u001b[0;32m    140\u001b[0m \u001b[1;33m\u001b[0m\u001b[0m\n",
      "\u001b[1;31mValueError\u001b[0m: Error when checking input: expected dense_38_input to have shape (60,) but got array with shape (2,)"
     ]
    }
   ],
   "source": [
    "model.fit(X, y, epochs=3, batch_size=75)#verbose=0)"
   ]
  },
  {
   "cell_type": "code",
   "execution_count": null,
   "metadata": {},
   "outputs": [],
   "source": []
  },
  {
   "cell_type": "markdown",
   "metadata": {},
   "source": [
    "### Task 3 - Neural Network\n"
   ]
  },
  {
   "cell_type": "code",
   "execution_count": 108,
   "metadata": {},
   "outputs": [],
   "source": [
    "# example of training a final regression model\n",
    "from keras.models import Sequential\n",
    "from keras.layers import Dense\n",
    "from sklearn.datasets import make_regression\n",
    "from sklearn.preprocessing import MinMaxScaler"
   ]
  },
  {
   "cell_type": "code",
   "execution_count": 109,
   "metadata": {},
   "outputs": [],
   "source": [
    "# generate regression dataset\n",
    "X, y = make_regression(n_samples=100, n_features=2, noise=0.1, random_state=1)\n",
    "scalarX, scalarY = MinMaxScaler(), MinMaxScaler()\n",
    "scalarX.fit(X)\n",
    "scalarY.fit(y.reshape(100,1))\n",
    "X = scalarX.transform(X)\n",
    "y = scalarY.transform(y.reshape(100,1))"
   ]
  },
  {
   "cell_type": "code",
   "execution_count": null,
   "metadata": {},
   "outputs": [],
   "source": [
    "X_train = dataset[:,:]\n",
    "y_train = targetset[:,:]\n",
    "\n"
   ]
  },
  {
   "cell_type": "code",
   "execution_count": 110,
   "metadata": {},
   "outputs": [],
   "source": [
    "# define and fit the final model\n",
    "model = Sequential()\n",
    "model.add(Dense(4, input_dim=2, activation='relu'))\n",
    "model.add(Dense(4, activation='relu'))\n",
    "model.add(Dense(1, activation='linear'))\n",
    "\n",
    "model.compile(loss='binary_crossentropy', optimizer='adamax', metrics=['accuracy'])"
   ]
  },
  {
   "cell_type": "code",
   "execution_count": 111,
   "metadata": {},
   "outputs": [
    {
     "name": "stdout",
     "output_type": "stream",
     "text": [
      "Epoch 1/50\n",
      "100/100 [==============================] - 1s 5ms/step - loss: 7.3505 - acc: 0.0100\n",
      "Epoch 2/50\n",
      "100/100 [==============================] - 0s 143us/step - loss: 7.3505 - acc: 0.0100\n",
      "Epoch 3/50\n",
      "100/100 [==============================] - 0s 110us/step - loss: 7.3505 - acc: 0.0100\n",
      "Epoch 4/50\n",
      "100/100 [==============================] - 0s 60us/step - loss: 7.3505 - acc: 0.0100\n",
      "Epoch 5/50\n",
      "100/100 [==============================] - 0s 60us/step - loss: 7.3505 - acc: 0.0100\n",
      "Epoch 6/50\n",
      "100/100 [==============================] - 0s 110us/step - loss: 7.3505 - acc: 0.0100\n",
      "Epoch 7/50\n",
      "100/100 [==============================] - 0s 80us/step - loss: 7.3505 - acc: 0.0100\n",
      "Epoch 8/50\n",
      "100/100 [==============================] - 0s 100us/step - loss: 7.3505 - acc: 0.0100\n",
      "Epoch 9/50\n",
      "100/100 [==============================] - 0s 60us/step - loss: 7.3505 - acc: 0.0100\n",
      "Epoch 10/50\n",
      "100/100 [==============================] - 0s 60us/step - loss: 7.3505 - acc: 0.0100\n",
      "Epoch 11/50\n",
      "100/100 [==============================] - 0s 50us/step - loss: 7.3505 - acc: 0.0100\n",
      "Epoch 12/50\n",
      "100/100 [==============================] - 0s 50us/step - loss: 7.3505 - acc: 0.0100\n",
      "Epoch 13/50\n",
      "100/100 [==============================] - 0s 50us/step - loss: 7.3505 - acc: 0.0100\n",
      "Epoch 14/50\n",
      "100/100 [==============================] - 0s 40us/step - loss: 7.3505 - acc: 0.0100\n",
      "Epoch 15/50\n",
      "100/100 [==============================] - 0s 50us/step - loss: 7.3505 - acc: 0.0100\n",
      "Epoch 16/50\n",
      "100/100 [==============================] - 0s 40us/step - loss: 7.3505 - acc: 0.0100\n",
      "Epoch 17/50\n",
      "100/100 [==============================] - 0s 50us/step - loss: 7.3505 - acc: 0.0100\n",
      "Epoch 18/50\n",
      "100/100 [==============================] - 0s 100us/step - loss: 7.3505 - acc: 0.0100\n",
      "Epoch 19/50\n",
      "100/100 [==============================] - 0s 130us/step - loss: 7.3505 - acc: 0.0100\n",
      "Epoch 20/50\n",
      "100/100 [==============================] - 0s 60us/step - loss: 7.3505 - acc: 0.0100\n",
      "Epoch 21/50\n",
      "100/100 [==============================] - 0s 70us/step - loss: 7.3505 - acc: 0.0100\n",
      "Epoch 22/50\n",
      "100/100 [==============================] - 0s 100us/step - loss: 7.3505 - acc: 0.0100\n",
      "Epoch 23/50\n",
      "100/100 [==============================] - 0s 60us/step - loss: 7.3505 - acc: 0.0100\n",
      "Epoch 24/50\n",
      "100/100 [==============================] - 0s 70us/step - loss: 7.3505 - acc: 0.0100\n",
      "Epoch 25/50\n",
      "100/100 [==============================] - 0s 100us/step - loss: 7.3505 - acc: 0.0100\n",
      "Epoch 26/50\n",
      "100/100 [==============================] - 0s 50us/step - loss: 7.3505 - acc: 0.0100\n",
      "Epoch 27/50\n",
      "100/100 [==============================] - 0s 70us/step - loss: 7.3505 - acc: 0.0100\n",
      "Epoch 28/50\n",
      "100/100 [==============================] - 0s 80us/step - loss: 7.3505 - acc: 0.0100\n",
      "Epoch 29/50\n",
      "100/100 [==============================] - 0s 70us/step - loss: 7.3505 - acc: 0.0100\n",
      "Epoch 30/50\n",
      "100/100 [==============================] - 0s 60us/step - loss: 7.3505 - acc: 0.0100\n",
      "Epoch 31/50\n",
      "100/100 [==============================] - 0s 50us/step - loss: 7.3505 - acc: 0.0100\n",
      "Epoch 32/50\n",
      "100/100 [==============================] - 0s 50us/step - loss: 7.3505 - acc: 0.0100\n",
      "Epoch 33/50\n",
      "100/100 [==============================] - 0s 50us/step - loss: 7.3505 - acc: 0.0100\n",
      "Epoch 34/50\n",
      "100/100 [==============================] - 0s 50us/step - loss: 7.3505 - acc: 0.0100\n",
      "Epoch 35/50\n",
      "100/100 [==============================] - 0s 50us/step - loss: 7.3505 - acc: 0.0100\n",
      "Epoch 36/50\n",
      "100/100 [==============================] - 0s 60us/step - loss: 7.3505 - acc: 0.0100\n",
      "Epoch 37/50\n",
      "100/100 [==============================] - 0s 60us/step - loss: 7.3505 - acc: 0.0100\n",
      "Epoch 38/50\n",
      "100/100 [==============================] - 0s 50us/step - loss: 7.3505 - acc: 0.0100\n",
      "Epoch 39/50\n",
      "100/100 [==============================] - 0s 60us/step - loss: 7.3505 - acc: 0.0100\n",
      "Epoch 40/50\n",
      "100/100 [==============================] - 0s 90us/step - loss: 7.3505 - acc: 0.0100\n",
      "Epoch 41/50\n",
      "100/100 [==============================] - 0s 70us/step - loss: 7.3505 - acc: 0.0100\n",
      "Epoch 42/50\n",
      "100/100 [==============================] - 0s 50us/step - loss: 7.3505 - acc: 0.0100\n",
      "Epoch 43/50\n",
      "100/100 [==============================] - 0s 60us/step - loss: 7.3505 - acc: 0.0100\n",
      "Epoch 44/50\n",
      "100/100 [==============================] - 0s 50us/step - loss: 7.3505 - acc: 0.0100\n",
      "Epoch 45/50\n",
      "100/100 [==============================] - 0s 60us/step - loss: 7.3505 - acc: 0.0100\n",
      "Epoch 46/50\n",
      "100/100 [==============================] - 0s 50us/step - loss: 7.3505 - acc: 0.0100\n",
      "Epoch 47/50\n",
      "100/100 [==============================] - 0s 50us/step - loss: 7.3505 - acc: 0.0100\n",
      "Epoch 48/50\n",
      "100/100 [==============================] - 0s 50us/step - loss: 7.3505 - acc: 0.0100\n",
      "Epoch 49/50\n",
      "100/100 [==============================] - 0s 50us/step - loss: 7.3505 - acc: 0.0100\n",
      "Epoch 50/50\n",
      "100/100 [==============================] - 0s 70us/step - loss: 7.3505 - acc: 0.0100\n"
     ]
    },
    {
     "data": {
      "text/plain": [
       "<keras.callbacks.History at 0x1d1adac3e10>"
      ]
     },
     "execution_count": 111,
     "metadata": {},
     "output_type": "execute_result"
    }
   ],
   "source": [
    "model.fit(X, y, epochs=50, batch_size=75)#verbose=0)"
   ]
  },
  {
   "cell_type": "code",
   "execution_count": null,
   "metadata": {},
   "outputs": [],
   "source": []
  }
 ],
 "metadata": {
  "kernelspec": {
   "display_name": "Python 3",
   "language": "python",
   "name": "python3"
  },
  "language_info": {
   "codemirror_mode": {
    "name": "ipython",
    "version": 3
   },
   "file_extension": ".py",
   "mimetype": "text/x-python",
   "name": "python",
   "nbconvert_exporter": "python",
   "pygments_lexer": "ipython3",
   "version": "3.6.7"
  }
 },
 "nbformat": 4,
 "nbformat_minor": 2
}
